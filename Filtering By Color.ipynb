{
 "cells": [
  {
   "cell_type": "code",
   "execution_count": 1,
   "metadata": {},
   "outputs": [],
   "source": [
    "import cv2\n",
    "import numpy as np\n",
    "\n",
    "# code that initialize the webcam\n",
    "cap = cv2.VideoCapture(0)\n",
    "\n",
    "# code that defines the range of PURPLE color in HSV\n",
    "# here the hue value is 125, and the saturation val is 0 as well as the brightness value\n",
    "lower_purple = np.array([105, 0, 0])\n",
    "# hue = 175, saturation = 255, value = 255\n",
    "upper_purple = np.array([175, 255, 255])\n",
    "\n",
    "# code that loops until the break statement is exec\n",
    "while True:\n",
    "    # code that reads our webcam feed.\n",
    "    ret, frame = cap.read()\n",
    "    \n",
    "    # coverts the image from RGB/BGR to an HSV image, for easy filtering\n",
    "    hsv_img = cv2.cvtColor(frame, cv2.COLOR_BGR2HSV)\n",
    "    \n",
    "    # the \"inrange\" method of cv2 is used to capture only vslues btw the lower and upper_purple var values.\n",
    "    mask = cv2.inRange(hsv_img, lower_purple, upper_purple)\n",
    "    \n",
    "    # code that performs a bitwise AND operation on our mask and original_frame\n",
    "    res = cv2.bitwise_and(frame, frame, mask = mask)\n",
    "    \n",
    "    cv2.imshow('Original', frame)\n",
    "    cv2.imshow('mask', mask)\n",
    "    cv2.imshow('Filtered Color Only', res)\n",
    "    if cv2.waitKey(1) == 13:\n",
    "        break\n",
    "        \n",
    "cap.release()\n",
    "cv2.destroyAllWindows()"
   ]
  }
 ],
 "metadata": {
  "kernelspec": {
   "display_name": "Python 2",
   "language": "python",
   "name": "python2"
  },
  "language_info": {
   "codemirror_mode": {
    "name": "ipython",
    "version": 2
   },
   "file_extension": ".py",
   "mimetype": "text/x-python",
   "name": "python",
   "nbconvert_exporter": "python",
   "pygments_lexer": "ipython2",
   "version": "2.7.15"
  }
 },
 "nbformat": 4,
 "nbformat_minor": 2
}
