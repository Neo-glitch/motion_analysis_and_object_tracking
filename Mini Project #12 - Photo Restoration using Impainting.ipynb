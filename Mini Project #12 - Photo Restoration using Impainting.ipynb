{
 "cells": [
  {
   "cell_type": "markdown",
   "metadata": {},
   "source": [
    "# Photo Restoration Using Impainting"
   ]
  },
  {
   "cell_type": "code",
   "execution_count": 1,
   "metadata": {},
   "outputs": [],
   "source": [
    "import cv2\n",
    "import numpy as np\n",
    "\n",
    "# code that loads the damaged photo\n",
    "image = cv2.imread('C:\\image_for_computer_vision\\Abraham.jpg')\n",
    "cv2.imshow('Original damaged photo', image)\n",
    "cv2.waitKey(0)\n",
    "\n",
    "# code that loads the photo where the damaged parts have been marked.\n",
    "marked_damages = cv2.imread('C:\\image_for_computer_vision\\Abraham_mask.jpg', 0)\n",
    "cv2.imshow('Marked_Damages', marked_damages)\n",
    "cv2.waitKey(0)\n",
    "\n",
    "# code that mask out our marked image by changing all color that aren't white to black.\n",
    "ret, thresh1 = cv2.threshold(marked_damages, 254, 255, cv2.THRESH_BINARY)\n",
    "cv2.imshow('Threshold_Binary', thresh1)\n",
    "cv2.waitKey(0)\n",
    "\n",
    "# code that dilates(make marked part thicker) our marks made\n",
    "# since thresholding has narrowed it slightly.\n",
    "kernel = np.ones((7, 7), np.uint8)\n",
    "mask = cv2.dilate(thresh1, kernel, iterations = 1)\n",
    "cv2.imshow('Dilated Mask', mask)\n",
    "cv2.imwrite('C:\\image_for_computer_vision\\Abraham_mask.png', mask)\n",
    "cv2.waitKey(0)\n",
    "\n",
    "\n",
    "restored = cv2.inpaint(image, mask, 3, cv2.INPAINT_TELEA)\n",
    "cv2.imshow('Restored_Image', restored)\n",
    "cv2.waitKey(0)\n",
    "\n",
    "cv2.destroyAllWindows()"
   ]
  },
  {
   "cell_type": "markdown",
   "metadata": {},
   "source": [
    "INPAINTING: it is used to replace lost or damaged parts of the image data."
   ]
  },
  {
   "cell_type": "markdown",
   "metadata": {},
   "source": [
    "cv2.inpaint(input_image, input_image mask, inpaint radius,, inpaint method)."
   ]
  },
  {
   "cell_type": "markdown",
   "metadata": {},
   "source": [
    "N.B: smaller values of the the inpaint radius make those damaged parts look less blurred but still has some noise, while Larger values look more blurred but remove most of the noise"
   ]
  },
  {
   "cell_type": "markdown",
   "metadata": {},
   "source": [
    "The inpaint methods are; \n",
    "\n",
    "INPAINT_NS = Navier-Stokes based method\n",
    "\n",
    "INPAINT_TELEA = Better than the method above seems it intergrates seemlessly into the image."
   ]
  }
 ],
 "metadata": {
  "kernelspec": {
   "display_name": "Python 2",
   "language": "python",
   "name": "python2"
  },
  "language_info": {
   "codemirror_mode": {
    "name": "ipython",
    "version": 2
   },
   "file_extension": ".py",
   "mimetype": "text/x-python",
   "name": "python",
   "nbconvert_exporter": "python",
   "pygments_lexer": "ipython2",
   "version": "2.7.15"
  }
 },
 "nbformat": 4,
 "nbformat_minor": 2
}
