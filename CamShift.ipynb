{
 "cells": [
  {
   "cell_type": "markdown",
   "metadata": {},
   "source": [
    "# CamShift Object Tracking Algorithm"
   ]
  },
  {
   "cell_type": "code",
   "execution_count": 1,
   "metadata": {},
   "outputs": [],
   "source": [
    "import cv2\n",
    "import numpy as np\n",
    "\n",
    "# code that initializes the webcam\n",
    "cap = cv2.VideoCapture(0)\n",
    "\n",
    "# code that takes the first frame of the video\n",
    "ret, frame = cap.read()\n",
    "\n",
    "# setups the default location of the window\n",
    "r, h, c, w = 240, 100, 400, 160\n",
    "track_window = (c, r, w, h)\n",
    "\n",
    "# crops the region of interest for tracking\n",
    "roi = frame[r:r+h, c:c+w]\n",
    "\n",
    "# converts the cropped window to HSV color space\n",
    "hsv_roi = cv2.cvtColor(roi, cv2.COLOR_BGR2HSV)\n",
    "\n",
    "# Creates a mask between the lower and upper HSV bounds.\n",
    "lower_purple = np.array([125, 0, 0])\n",
    "upper_purple = np.array([175, 255, 255])\n",
    "mask = cv2.inRange(hsv_roi, lower_purple, upper_purple)\n",
    "\n",
    "# obtains the color Histogram of the ROI\n",
    "roi_hist = cv2.calcHist([hsv_roi], [0], mask, [100], [0, 180])\n",
    "\n",
    "# code that normalizes values to lie between the range of 0, 255\n",
    "cv2.normalize(roi_hist, roi_hist, 0, 255, cv2.NORM_MINMAX)\n",
    "\n",
    "# code that setups the termination criteria\n",
    "# it says that we stop calculating the centroid shift aftre ten iterations\n",
    "# or if the centroid has moved at least 1 pixel.\n",
    "term_crit = ( cv2.TERM_CRITERIA_EPS | cv2.TERM_CRITERIA_COUNT, 10, 1 )\n",
    "\n",
    "while True:\n",
    "    # read webcam frame\n",
    "    ret,frame = cap.read()\n",
    "    frame = cv2.flip(frame, 1)\n",
    "    \n",
    "    \n",
    "    if ret == True:\n",
    "        # converts to HSV\n",
    "        hsv = cv2.cvtColor(frame, cv2.COLOR_BGR2HSV)\n",
    "        \n",
    "        # calc the histogram back projection\n",
    "        # Each pixel value is its probability\n",
    "        dst  = cv2.calcBackProject([hsv], [0], roi_hist, [0, 180], 1)\n",
    "        \n",
    "        # code that applies the camShift algo to get the new location and also a new tracking window base on the object size.\n",
    "        ret, track_window = cv2.CamShift(dst, track_window, term_crit)\n",
    "        \n",
    "        # draws it on image\n",
    "        # we use .polylines instead of .rectangles to rep Adaptive box based on the object size.\n",
    "        # rather than just fixed rectangular boxes.\n",
    "        pts = cv2.boxPoints(ret)\n",
    "        pts = np.int0(pts)\n",
    "        img2 = cv2.polylines(frame, [pts], True, 255, 2)\n",
    "        \n",
    "        cv2.imshow('CamShift Tracking', img2)\n",
    "        \n",
    "        if cv2.waitKey(1) == 13:\n",
    "            break\n",
    "    else:\n",
    "        break\n",
    "        \n",
    "cap.release()\n",
    "cv2.destroyAllWindows()"
   ]
  }
 ],
 "metadata": {
  "kernelspec": {
   "display_name": "Python 2",
   "language": "python",
   "name": "python2"
  },
  "language_info": {
   "codemirror_mode": {
    "name": "ipython",
    "version": 2
   },
   "file_extension": ".py",
   "mimetype": "text/x-python",
   "name": "python",
   "nbconvert_exporter": "python",
   "pygments_lexer": "ipython2",
   "version": "2.7.15"
  }
 },
 "nbformat": 4,
 "nbformat_minor": 2
}
